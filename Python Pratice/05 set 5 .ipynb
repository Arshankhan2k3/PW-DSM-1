{
 "cells": [
  {
   "cell_type": "markdown",
   "metadata": {},
   "source": [
    "#### Q1. Can you create a Python program that reads a text file and counts the number of words contained within it? The program should be designed to read the file and break it down into individual words, using spaces, punctuation marks, and other delimiters to separate the words. It should then count the number of words found in the file and display this count as output. The program should be flexible enough to work with different text files and should be able to handle a variety of formatting and punctuation styles."
   ]
  },
  {
   "cell_type": "code",
   "execution_count": 16,
   "metadata": {},
   "outputs": [
    {
     "name": "stdout",
     "output_type": "stream",
     "text": [
      "Total words in the file: 38\n"
     ]
    }
   ],
   "source": [
    "import string\n",
    "\n",
    "def count_words(file_path):\n",
    "    # Define punctuation marks\n",
    "    punctuation = string.punctuation\n",
    "\n",
    "    # Initialize word count\n",
    "    word_count = 0\n",
    "\n",
    "    try:\n",
    "        # Open the file in read mode\n",
    "        with open(file_path, 'r') as file:\n",
    "            # Read each line in the file\n",
    "            for line in file:\n",
    "                # Remove punctuation marks and split the line into words\n",
    "                translation_table = str.maketrans('', '', punctuation)\n",
    "                words = line.translate(translation_table).split()\n",
    "                # Increment word count by the number of words in the line\n",
    "                word_count += len(words)\n",
    "    except FileNotFoundError:\n",
    "        print(\"File not found!\")\n",
    "    except Exception as e:\n",
    "        print(\"An error occurred:\", e)\n",
    "\n",
    "    return word_count\n",
    "\n",
    "# Example usage\n",
    "file_path = 'textfile.txt'  \n",
    "total_words = count_words(file_path)\n",
    "print(\"Total words in the file:\", total_words)\n"
   ]
  },
  {
   "cell_type": "markdown",
   "metadata": {},
   "source": [
    "### Q2. Could you help me create a Python program that can find and display the longest word in a text file? The program should be able to read any text file and separate its contents into individual words, taking into account various delimiters like spaces, punctuation marks, and other characters. Then, it should compare the length of each word and determine which one is the longest, and finally, print that word as output. The program should be versatile enough to work with various text files and be able to handle different formatting styles and punctuation."
   ]
  },
  {
   "cell_type": "code",
   "execution_count": 15,
   "metadata": {},
   "outputs": [
    {
     "name": "stdout",
     "output_type": "stream",
     "text": [
      "Longest word in the file: punctuation\n"
     ]
    }
   ],
   "source": [
    "import string\n",
    "\n",
    "def find_longest_word(file_path):\n",
    "    # Define punctuation marks\n",
    "    punctuation = string.punctuation\n",
    "\n",
    "    # Initialize variables\n",
    "    longest_word = ''\n",
    "    max_length = 0\n",
    "\n",
    "    try:\n",
    "        # Open the file in read mode\n",
    "        with open(file_path, 'r') as file:\n",
    "            # Read each line in the file\n",
    "            for line in file:\n",
    "                # Remove punctuation marks and split the line into words\n",
    "                translation_table = str.maketrans('', '', punctuation)\n",
    "                words = line.translate(translation_table).split()\n",
    "                # Iterate through each word\n",
    "                for word in words:\n",
    "                    # Check if the length of the current word is greater than the maximum length found so far\n",
    "                    if len(word) > max_length:\n",
    "                        max_length = len(word)\n",
    "                        longest_word = word\n",
    "    except FileNotFoundError:\n",
    "        print(\"File not found!\")\n",
    "    except Exception as e:\n",
    "        print(\"An error occurred:\", e)\n",
    "\n",
    "    return longest_word\n",
    "\n",
    "# Example usage\n",
    "file_path = 'textfile.txt'  # Change this to the path of your text file\n",
    "longest_word = find_longest_word(file_path)\n",
    "print(\"Longest word in the file:\", longest_word)\n"
   ]
  },
  {
   "cell_type": "markdown",
   "metadata": {},
   "source": [
    "### Q3. Write a Python program to read a text file and print out the most frequent word(s) in the file."
   ]
  },
  {
   "cell_type": "code",
   "execution_count": 22,
   "metadata": {},
   "outputs": [
    {
     "name": "stdout",
     "output_type": "stream",
     "text": [
      "Most frequent word(s) in the file: ['is', 'file', 'punctuation', 'the']\n",
      "Frequency: 2\n"
     ]
    }
   ],
   "source": [
    "import string\n",
    "from collections import Counter\n",
    "\n",
    "def most_frequent_words(file_path):\n",
    "    # Define punctuation marks\n",
    "    punctuation = string.punctuation\n",
    "\n",
    "    # Initialize a Counter object to count the occurrences of each word\n",
    "    word_counter = Counter()\n",
    "\n",
    "    try:\n",
    "        # Open the file in read mode\n",
    "        with open(file_path, 'r') as file:\n",
    "            # Read each line in the file\n",
    "            for line in file:\n",
    "                # Remove punctuation marks and split the line into words\n",
    "                translation_table = str.maketrans('', '', punctuation)\n",
    "                words = line.translate(translation_table).split()\n",
    "                # Update word_counter with the words in the line\n",
    "                word_counter.update(words)\n",
    "    except FileNotFoundError:\n",
    "        print(\"File not found!\")\n",
    "        return\n",
    "    except Exception as e:\n",
    "        print(\"An error occurred:\", e)\n",
    "        return\n",
    "\n",
    "    # Get the most common word(s) and their frequencies\n",
    "    most_common = word_counter.most_common()\n",
    "    # Find the maximum frequency\n",
    "    max_frequency = most_common[0][1]\n",
    "    # Filter words with maximum frequency\n",
    "    most_frequent_words = [word for word, freq in most_common if freq == max_frequency]\n",
    "\n",
    "    return most_frequent_words, max_frequency\n",
    "\n",
    "# Example usage\n",
    "file_path = 'textfile.txt'  # Change this to the path of your text file\n",
    "result = most_frequent_words(file_path)\n",
    "if result:\n",
    "    most_frequent_words, max_frequency = result\n",
    "    print(\"Most frequent word(s) in the file:\", most_frequent_words)\n",
    "    print(\"Frequency:\", max_frequency)\n"
   ]
  },
  {
   "cell_type": "code",
   "execution_count": 21,
   "metadata": {},
   "outputs": [
    {
     "name": "stdout",
     "output_type": "stream",
     "text": [
      "['apple', 'banana']\n",
      "[('apple', 3), ('banana', 3), ('orange', 2), ('grape', 1), ('carrot', 1), ('shan', 1)]\n"
     ]
    }
   ],
   "source": [
    "from collections import Counter\n",
    "# Sample text\n",
    "text = \"apple banana apple orange banana grape orange carrot shan apple banana\"\n",
    "# Initialize a Counter object to count the occurrences of each word\n",
    "word_counter = Counter()\n",
    "# Split the text into words\n",
    "words = text.split()\n",
    "# Update word_counter with the words\n",
    "word_counter.update(words)\n",
    "# Print the contents of word_counter\n",
    "# Get the most common word(s) and their frequencies\n",
    "most_common = word_counter.most_common()\n",
    "# Find the maximum frequency\n",
    "max_frequency = most_common[0][1]\n",
    "# Filter words with maximum frequency\n",
    "most_frequent_words = [word for word, freq in most_common if freq == max_frequency]\n",
    "print(most_frequent_words)\n",
    "print(most_common)"
   ]
  },
  {
   "cell_type": "code",
   "execution_count": 28,
   "metadata": {},
   "outputs": [
    {
     "name": "stdout",
     "output_type": "stream",
     "text": [
      "Frequency of the most common word: 5\n"
     ]
    }
   ],
   "source": [
    "# Sample most_common list with more elements\n",
    "most_common = [('apple', 5), ('banana', 3), ('orange', 2), ('grape', 2), ('kiwi', 1)]\n",
    "\n",
    "# Extract the frequency of the most common word\n",
    "max_frequency = most_common[0][1]\n",
    "\n",
    "print(\"Frequency of the most common word:\", max_frequency)\n"
   ]
  },
  {
   "cell_type": "markdown",
   "metadata": {},
   "source": [
    "### Q4. How can you use Python to count the number of rows in a CSV file?"
   ]
  },
  {
   "cell_type": "code",
   "execution_count": 31,
   "metadata": {},
   "outputs": [
    {
     "name": "stdout",
     "output_type": "stream",
     "text": [
      "Number of rows in the CSV file: 5\n"
     ]
    }
   ],
   "source": [
    "import csv\n",
    "\n",
    "def count_csv_rows(file_path):\n",
    "    try:\n",
    "        # Open the CSV file in read mode\n",
    "        with open(file_path, 'r', newline='') as file:\n",
    "            # Create a CSV reader object\n",
    "            csv_reader = csv.reader(file)\n",
    "            \n",
    "            # Use the len() function to count the rows\n",
    "            row_count = len(list(csv_reader))\n",
    "            \n",
    "            return row_count\n",
    "    except FileNotFoundError:\n",
    "        print(\"File not found!\")\n",
    "    except Exception as e:\n",
    "        print(\"An error occurred:\", e)\n",
    "\n",
    "# Example usage\n",
    "file_path = 'example.csv'  # Change this to the path of your CSV file\n",
    "row_count = count_csv_rows(file_path)\n",
    "print(\"Number of rows in the CSV file:\", row_count)\n"
   ]
  },
  {
   "cell_type": "markdown",
   "metadata": {},
   "source": [
    "### Q5. How can you use Python to calculate the average of a specific column in a CSV file?"
   ]
  },
  {
   "cell_type": "code",
   "execution_count": 42,
   "metadata": {},
   "outputs": [
    {
     "name": "stdout",
     "output_type": "stream",
     "text": [
      "Invalid column index!\n",
      "No data found or column is empty.\n"
     ]
    }
   ],
   "source": [
    "import csv\n",
    "\n",
    "def calculate_column_average(file_path, column_index):\n",
    "    try:\n",
    "        # Open the CSV file in read mode\n",
    "        with open(file_path, 'r', newline='') as file:\n",
    "            # Create a CSV reader object\n",
    "            csv_reader = csv.reader(file)\n",
    "            \n",
    "            # Initialize variables\n",
    "            total = 0\n",
    "            count = 0\n",
    "            \n",
    "            # Iterate over each row in the CSV file\n",
    "            for row in csv_reader:\n",
    "                # Skip the header row\n",
    "                if csv_reader.line_num == 1:\n",
    "                    continue\n",
    "                \n",
    "                # Try to convert the column value to a float and add it to the total\n",
    "                try:\n",
    "                    value = float(row[column_index])\n",
    "                    total += value\n",
    "                    count += 1\n",
    "                except ValueError:\n",
    "                    # If conversion fails, skip the row\n",
    "                    continue\n",
    "            \n",
    "            # Calculate the average\n",
    "            if count > 0:\n",
    "                average = total / count\n",
    "                return average\n",
    "            else:\n",
    "                return None\n",
    "    except FileNotFoundError:\n",
    "        print(\"File not found!\")\n",
    "    except IndexError:\n",
    "        print(\"Invalid column index!\")\n",
    "    except Exception as e:\n",
    "        print(\"An error occurred:\", e)\n",
    "\n",
    "# Example usage\n",
    "file_path = 'example.csv'  # Change this to the path of your CSV file\n",
    "column_index = 2  # Change this to the index of the column you want to calculate the average for\n",
    "average = calculate_column_average(file_path, column_index)\n",
    "if average is not None:\n",
    "    print(f\"Average of column {column_index}: {average}\")\n",
    "else:\n",
    "    print(\"No data found or column is empty.\")\n"
   ]
  },
  {
   "cell_type": "code",
   "execution_count": 47,
   "metadata": {},
   "outputs": [
    {
     "name": "stdout",
     "output_type": "stream",
     "text": [
      "<class 'pandas.core.frame.DataFrame'>\n",
      "RangeIndex: 15 entries, 0 to 14\n",
      "Data columns (total 10 columns):\n",
      " #   Column      Non-Null Count  Dtype \n",
      "---  ------      --------------  ----- \n",
      " 0   Name        15 non-null     object\n",
      " 1   Age         15 non-null     int64 \n",
      " 2   Salary      15 non-null     int64 \n",
      " 3   Department  15 non-null     object\n",
      " 4   Location    15 non-null     object\n",
      " 5   Education   15 non-null     object\n",
      " 6   Experience  15 non-null     int64 \n",
      " 7   Position    15 non-null     object\n",
      " 8   Email       15 non-null     object\n",
      " 9   Phone       15 non-null     object\n",
      "dtypes: int64(3), object(7)\n",
      "memory usage: 1.3+ KB\n"
     ]
    }
   ],
   "source": [
    "import pandas as pd\n",
    "df1 = pd.read_csv('example.csv')\n",
    "df1.info()"
   ]
  },
  {
   "cell_type": "code",
   "execution_count": null,
   "metadata": {},
   "outputs": [],
   "source": []
  }
 ],
 "metadata": {
  "kernelspec": {
   "display_name": "base",
   "language": "python",
   "name": "python3"
  },
  "language_info": {
   "codemirror_mode": {
    "name": "ipython",
    "version": 3
   },
   "file_extension": ".py",
   "mimetype": "text/x-python",
   "name": "python",
   "nbconvert_exporter": "python",
   "pygments_lexer": "ipython3",
   "version": "3.11.5"
  }
 },
 "nbformat": 4,
 "nbformat_minor": 2
}
